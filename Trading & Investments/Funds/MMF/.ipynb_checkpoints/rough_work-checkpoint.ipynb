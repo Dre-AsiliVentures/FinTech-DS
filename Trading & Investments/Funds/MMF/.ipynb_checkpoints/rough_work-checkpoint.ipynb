{
 "cells": [
  {
   "cell_type": "code",
   "execution_count": null,
   "id": "7287a5e9",
   "metadata": {},
   "outputs": [],
   "source": [
    "class i:\n",
    "    def __init__(self,en,oi):\n",
    "        self.color=7\n",
    "        print(en)\n",
    "        print(oi)\n",
    "        #print(\"Nimeanza\")\n",
    "    def period(self):\n",
    "        print(self.color)\n",
    "        self.color='green'\n",
    "        print(1+1)\n",
    "    def second_Fun(self):\n",
    "        self.period()"
   ]
  },
  {
   "cell_type": "code",
   "execution_count": null,
   "id": "82a37050",
   "metadata": {},
   "outputs": [],
   "source": [
    "#class investmentDate_Duration:\n",
    "#     def __init__(self,endDate,startDate):\n",
    "#         self.color=7\n",
    "#         #print(\"Nimeanza\")\n",
    "#         pass\n",
    "#     def period(self):\n",
    "#         print(self.color)\n",
    "#         self.color='green'\n",
    "#         print(1+1)\n",
    "#     def case():\n",
    "#         print(5)\n",
    "    #s=investmentDate_Duration()\n",
    "    #s.period()\n",
    "    #s.__dict__['color']     \n",
    "    \n",
    "   # 'gives green as output'"
   ]
  },
  {
   "cell_type": "code",
   "execution_count": null,
   "id": "006066f0",
   "metadata": {},
   "outputs": [],
   "source": [
    "self.investment_Months=[]\n",
    "        for i in range(self.period()):\n",
    "            for month in self.calendar_months:\n",
    "                investment_Months.append(month)=self.calendar_months[self.month-1]\n",
    "            "
   ]
  },
  {
   "cell_type": "code",
   "execution_count": null,
   "id": "19b3976b",
   "metadata": {},
   "outputs": [],
   "source": [
    "calendar_months=['Jan','Feb','Mar','Apr','May','Jun','July','Aug','Sep','Oct','Nov','Dec']"
   ]
  },
  {
   "cell_type": "code",
   "execution_count": null,
   "id": "6d280536",
   "metadata": {},
   "outputs": [],
   "source": [
    "investment_Months=[]\n",
    "for i in range(5):\n",
    "    month=\n",
    "    while month<i\n",
    "    for month in calendar_months:\n",
    "        investment_Months.append(month)\n",
    "            #self.calendar_months[self.month-1]\n",
    "    "
   ]
  },
  {
   "cell_type": "code",
   "execution_count": null,
   "id": "3642cf9f",
   "metadata": {},
   "outputs": [],
   "source": [
    "a=-1\n",
    "start_month=2\n",
    "end_month=6\n",
    "while a>start_month and (a<end_month):\n",
    "    investment_Months.append(calendar_months[a])"
   ]
  },
  {
   "cell_type": "code",
   "execution_count": null,
   "id": "af7d7988",
   "metadata": {},
   "outputs": [],
   "source": [
    "for month in range(start_month,end_month):\n",
    "    #month=range()\n",
    "    d=calendar_months[month]\n",
    "    investment_Months.append()"
   ]
  },
  {
   "cell_type": "code",
   "execution_count": 9,
   "id": "8ffe95fa",
   "metadata": {},
   "outputs": [],
   "source": [
    "calendar_months=['Jan','Feb','Mar','Apr','May','Jun','July','Aug','Sep','Oct','Nov','Dec']\n",
    "start_month=2\n",
    "end_month=6\n",
    "investment_Months=[]\n",
    "mon_index=start_month\n",
    "for mon_index in range(start_month,end_month):\n",
    "    investment_Months.append(calendar_months[mon_index])\n",
    "    #mon_index+=1\n",
    "investment_Months"
   ]
  },
  {
   "cell_type": "code",
   "execution_count": 33,
   "id": "8bb2175d",
   "metadata": {},
   "outputs": [],
   "source": [
    "#or\n",
    "start_month=2\n",
    "end_month=6\n",
    "investment_Months=calendar_months[start_month-1:end_month]"
   ]
  },
  {
   "cell_type": "code",
   "execution_count": 34,
   "id": "436af006",
   "metadata": {},
   "outputs": [
    {
     "data": {
      "text/plain": [
       "['Feb', 'Mar', 'Apr', 'May', 'Jun']"
      ]
     },
     "execution_count": 34,
     "metadata": {},
     "output_type": "execute_result"
    }
   ],
   "source": [
    "investment_Months"
   ]
  },
  {
   "cell_type": "code",
   "execution_count": 28,
   "id": "be31b235",
   "metadata": {},
   "outputs": [],
   "source": [
    "start_month=7\n",
    "end_month=2"
   ]
  },
  {
   "cell_type": "code",
   "execution_count": 23,
   "id": "903409c2",
   "metadata": {},
   "outputs": [],
   "source": [
    "#investment_Months=calendar_months[start_month-1::]"
   ]
  },
  {
   "cell_type": "code",
   "execution_count": 29,
   "id": "ed1f22f2",
   "metadata": {},
   "outputs": [
    {
     "data": {
      "text/plain": [
       "['July', 'Aug', 'Sep', 'Oct', 'Nov', 'Dec']"
      ]
     },
     "execution_count": 29,
     "metadata": {},
     "output_type": "execute_result"
    }
   ],
   "source": [
    "calendar_months[start_month-1::]"
   ]
  },
  {
   "cell_type": "code",
   "execution_count": 30,
   "id": "b501100d",
   "metadata": {},
   "outputs": [
    {
     "data": {
      "text/plain": [
       "['Jan', 'Feb']"
      ]
     },
     "execution_count": 30,
     "metadata": {},
     "output_type": "execute_result"
    }
   ],
   "source": [
    "self.investment_Months=[]\n",
    "if (self.end_month<self.start_month) and (self.end_year>self.start_year):\n",
    "    # #Exceptional case scenario e.g., End date= '01/01/2025' and Start date is '01/04/2022'\n",
    "    self.investment_Months=self.calendar_months[self.start_month-1::]+self.calendar_months[:self.end_month]\n",
    "    return self.investment_Months\n",
    "else:\n",
    "    #Normal case scenario e.g., End date= '01/04/2025' and Start date is '01/01/2022'\n",
    "    self.investment_Months=self.calendar_months[self.start_month-1:self.end_month]\n",
    "    return self.investment_Months"
   ]
  },
  {
   "cell_type": "code",
   "execution_count": 22,
   "id": "1b58a2cb",
   "metadata": {},
   "outputs": [
    {
     "data": {
      "text/plain": [
       "['July',\n",
       " 'Aug',\n",
       " 'Sep',\n",
       " 'Oct',\n",
       " 'Nov',\n",
       " 'Dec',\n",
       " 'Jan',\n",
       " 'Feb',\n",
       " 'Mar',\n",
       " 'Apr',\n",
       " 'May',\n",
       " 'Jun',\n",
       " 'July',\n",
       " 'Aug',\n",
       " 'Sep',\n",
       " 'Oct',\n",
       " 'Nov',\n",
       " 'Dec']"
      ]
     },
     "execution_count": 22,
     "metadata": {},
     "output_type": "execute_result"
    }
   ],
   "source": [
    "investment_Months"
   ]
  },
  {
   "cell_type": "code",
   "execution_count": null,
   "id": "22dc4df4",
   "metadata": {},
   "outputs": [],
   "source": [
    "s=investmentDate_Duration('01/05/2023','01/10/2022')\n",
    "s.calendar()"
   ]
  },
  {
   "cell_type": "code",
   "execution_count": null,
   "id": "49e986cc",
   "metadata": {},
   "outputs": [],
   "source": [
    "calendar_months=['Jan','Feb','Mar','Apr','May','Jun','July','Aug','Sep','Oct','Nov','Dec']\n",
    "investment_Start_month=calendar_months[str(start_month)]"
   ]
  },
  {
   "cell_type": "code",
   "execution_count": null,
   "id": "88046e32",
   "metadata": {},
   "outputs": [],
   "source": [
    "global witholdingTax=0.15\n",
    "mmf_Yield=0.109\n",
    "global monthlyRate=mmf_Yield/12\n",
    "global top_upAmount=int(input(\"Enter the monthly contribution: \"))"
   ]
  },
  {
   "cell_type": "code",
   "execution_count": null,
   "id": "9c2deb90",
   "metadata": {},
   "outputs": [],
   "source": [
    "global top_upAmount=int(input(\"Entr the monthly contribution: \"))\n",
    "global start_date=str(input(\"Enter the Starting date of investment period in DD/MM/YYYY format\"))\n",
    "global end_date=str(input(\"Enter the End Date of investment period in DD/MM/YYYY format\"))"
   ]
  },
  {
   "cell_type": "code",
   "execution_count": null,
   "id": "d936f86d",
   "metadata": {},
   "outputs": [],
   "source": [
    "def date1_Accounting(date,runningBalance,rate):\n",
    "    while runningBalance>0:\n",
    "        gross_Interest=(rate/12)*runningBalance\n",
    "        net_Interest=gross_Intrest-witholdingTax*runningBalance\n",
    "    return runningBalance+net_Interest\n",
    "def date4_Accounting(date,topup_Amount,runningBalance):\n",
    "    return topup_Amount+runningBalance"
   ]
  },
  {
   "cell_type": "code",
   "execution_count": null,
   "id": "fb23eb79",
   "metadata": {},
   "outputs": [],
   "source": [
    "year=11\n",
    "with year>1 year<year:\n",
    "    print(\"Sijawahi kuwa Kimathi\")"
   ]
  },
  {
   "cell_type": "code",
   "execution_count": null,
   "id": "07e0f72c",
   "metadata": {},
   "outputs": [],
   "source": []
  }
 ],
 "metadata": {
  "kernelspec": {
   "display_name": "Python 3 (ipykernel)",
   "language": "python",
   "name": "python3"
  },
  "language_info": {
   "codemirror_mode": {
    "name": "ipython",
    "version": 3
   },
   "file_extension": ".py",
   "mimetype": "text/x-python",
   "name": "python",
   "nbconvert_exporter": "python",
   "pygments_lexer": "ipython3",
   "version": "3.9.7"
  }
 },
 "nbformat": 4,
 "nbformat_minor": 5
}
