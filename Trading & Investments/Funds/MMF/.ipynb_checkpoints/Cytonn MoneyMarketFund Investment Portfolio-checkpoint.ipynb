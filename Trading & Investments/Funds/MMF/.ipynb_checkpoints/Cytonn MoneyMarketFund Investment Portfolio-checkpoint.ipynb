{
 "cells": [
  {
   "cell_type": "markdown",
   "id": "052ba232",
   "metadata": {},
   "source": [
    "# Investment Inputs\n"
   ]
  },
  {
   "cell_type": "code",
   "execution_count": null,
   "id": "a40e1062",
   "metadata": {},
   "outputs": [],
   "source": [
    "global top_upAmount=int(input(\"Enter the monthly contribution: \"))\n",
    "global start_date=str(input(\"Enter the Starting date of investment period in DD/MM/YYYY format\"))\n",
    "global end_date=str(input(\"Enter the End Date of investment period in DD/MM/YYYY format\"))"
   ]
  },
  {
   "cell_type": "markdown",
   "id": "63c420aa",
   "metadata": {},
   "source": [
    "### Witholding Tax, Top-Up Amount, MMF Yields"
   ]
  },
  {
   "cell_type": "code",
   "execution_count": null,
   "id": "e6be9fb3",
   "metadata": {},
   "outputs": [],
   "source": [
    "global witholdingTax=0.15\n",
    "mmf_Yield=0.109\n",
    "global monthlyRate=mmf_Yield/12\n",
    "global top_upAmount=int(input(\"Enter the monthly contribution: \"))"
   ]
  },
  {
   "cell_type": "markdown",
   "id": "defeec43",
   "metadata": {},
   "source": [
    "### 1st & 4th Accounting date Functions "
   ]
  },
  {
   "cell_type": "code",
   "execution_count": null,
   "id": "ed13641d",
   "metadata": {},
   "outputs": [],
   "source": [
    "def date1_Accounting(date,runningBalance,rate):\n",
    "    while runningBalance>0:\n",
    "        gross_Interest=(rate/12)*runningBalance\n",
    "        net_Interest=gross_Intrest-witholdingTax*runningBalance\n",
    "    return runningBalance+net_Interest\n",
    "def date4_Accounting(date,topup_Amount,runningBalance):\n",
    "    return topup_Amount+runningBalance"
   ]
  },
  {
   "cell_type": "code",
   "execution_count": null,
   "id": "e24e92e4",
   "metadata": {},
   "outputs": [],
   "source": []
  },
  {
   "cell_type": "code",
   "execution_count": null,
   "id": "52563702",
   "metadata": {},
   "outputs": [],
   "source": [
    "end_date='01/05/2023'\n",
    "start_date='01/10/2022'"
   ]
  },
  {
   "cell_type": "markdown",
   "id": "129aa742",
   "metadata": {},
   "source": [
    "### Calculating the investment period (as months)"
   ]
  },
  {
   "cell_type": "code",
   "execution_count": null,
   "id": "2d1bb1ea",
   "metadata": {},
   "outputs": [],
   "source": [
    "def investment_period(endDate,startDate):\n",
    "    #from datetime import datetime\n",
    "    # Split the end_date to determine the Day, Months and Years\n",
    "    end_day=int(endDate.split('/')[0])\n",
    "    end_month=int(endDate.split('/')[1])\n",
    "    end_year=int(endDate.split('/')[2])\n",
    "    # Split the Start_date to determine the Day, Months and Years\n",
    "    start_day=int(startDate.split('/')[0])\n",
    "    start_month=int(startDate.split('/')[1])\n",
    "    start_year=int(startDate.split('/')[2])\n",
    "    "
   ]
  },
  {
   "cell_type": "code",
   "execution_count": null,
   "id": "c82645dd",
   "metadata": {
    "scrolled": true
   },
   "outputs": [],
   "source": [
    "#investment_period('01/06/2022','01/01/2022')"
   ]
  },
  {
   "cell_type": "code",
   "execution_count": null,
   "id": "a921cb10",
   "metadata": {
    "scrolled": true
   },
   "outputs": [],
   "source": [
    "investment_period('01/06/2022','01/01/2022')"
   ]
  },
  {
   "cell_type": "markdown",
   "id": "b8637bdc",
   "metadata": {},
   "source": [
    "### investmentDate_Duration---- Class Definition"
   ]
  },
  {
   "cell_type": "code",
   "execution_count": 68,
   "id": "b4932cc2",
   "metadata": {},
   "outputs": [],
   "source": [
    "class investmentDate_Duration:\n",
    "    def __init__(self,startDate,endDate):\n",
    "        \n",
    "        #Split the end_date to determine the Day, Months and Years\n",
    "        self.end_day=int(endDate.split('/')[0])\n",
    "        self.end_month=int(endDate.split('/')[1])\n",
    "        self.end_year=int(endDate.split('/')[2])\n",
    "        \n",
    "        # Split the Start_date to determine the Day, Months and Years\n",
    "        self.start_day=int(startDate.split('/')[0])\n",
    "        self.start_month=int(startDate.split('/')[1])\n",
    "        self.start_year=int(startDate.split('/')[2])\n",
    "        # Months of the Year\n",
    "        self.calendar_months=['Jan','Feb','Mar','Apr','May','Jun','July','Aug','Sep','Oct','Nov','Dec']\n",
    "        \n",
    "        # Investment parameters\n",
    "        self.runningBalance=0\n",
    "        witholdingTax=0\n",
    "        \n",
    "    def period(self):\n",
    "        if (self.end_month<self.start_month) and (self.end_year>self.start_year):\n",
    "            # Case example \n",
    "            #Exceptional case scenario e.g., End date= '01/01/2025' and Start date is '01/04/2022'\n",
    "            investment_period=(self.end_year-self.start_year)*12+(abs(self.start_month-self.end_month))\n",
    "        else:\n",
    "            #Normal case scenario\n",
    "            investment_period=(self.end_year-self.start_year)*12+(abs(self.end_month-self.start_month))\n",
    "            #print(\"Investment period (in months) is: {}\".format(investment_period))\n",
    "        return investment_period\n",
    "    \"\"\"Usage Format :investment_period(startDate,endDate)\n",
    "    #Usage example: \n",
    "                  investmentDate_Duration('01/05/2022','01/10/2023') \"\"\"\n",
    "    # Example s=investmentDate_Duration('01/05/2023','01/10/2022')'\n",
    "    \n",
    "    #         s.period()\n",
    "    def calendar(self):\n",
    "         # Check the calendar months and return the start month from its corresponding index \n",
    "        self.investment_Start_month=self.calendar_months[self.start_month-1] # List indices start from 0 so minus 1\n",
    "        # Check the calendar months and return the end month from its corresponding index \n",
    "        self.investment_End_month=self.calendar_months[self.end_month-1] # List indices start from 0 so minus 1\n",
    "        self.investmentYears=self.end_year-self.start_year\n",
    "        #return [self.investment_Start_month,self.investment_End_month]\n",
    "        return self.investmentYears\n",
    "    def investing_Months(self):\n",
    "        self.investment_Months=[]\n",
    "        if (self.end_month<self.start_month) and (self.end_year>self.start_year):\n",
    "            # #Exceptional case scenario e.g., End date= '01/01/2025' and Start date is '01/04/2022'\n",
    "            self.investment_Months=self.calendar_months[self.start_month-1::]+self.calendar_months[:self.end_month]\n",
    "            return self.investment_Months\n",
    "        else:\n",
    "            #Normal case scenario e.g., End date= '01/04/2025' and Start date is '01/01/2022'\n",
    "            self.investment_Months=self.calendar_months[self.start_month-1:self.end_month]\n",
    "            return self.investment_Months\n",
    "    def firstDayInvestment(self,self.runningBalance,self.rate):\n",
    "        months=self.investing_Months()\n",
    "        firstDays={}\n",
    "        for month in months:\n",
    "            #print('01-'+str(month)+str(self.start_year)+'runningBalance')\n",
    "            monthYearkey='01-'+str(month)+str(self.start_year)\n",
    "            monthYearValue='01-'+str(month)+str(self.start_year)\n",
    "        return self.runningBalance\n",
    "        \n",
    "        \n",
    "        \n",
    "            "
   ]
  },
  {
   "cell_type": "markdown",
   "id": "f72d827d",
   "metadata": {},
   "source": [
    "### investmentDuration Class-- Example usage "
   ]
  },
  {
   "cell_type": "code",
   "execution_count": 69,
   "id": "47e7f447",
   "metadata": {},
   "outputs": [
    {
     "data": {
      "text/plain": [
       "'May'"
      ]
     },
     "execution_count": 69,
     "metadata": {},
     "output_type": "execute_result"
    }
   ],
   "source": [
    "s=investmentDate_Duration('01/05/2022','01/10/2023')\n",
    "s.calendar()[0]\n",
    "#print(s.monthly_v)"
   ]
  },
  {
   "cell_type": "code",
   "execution_count": 56,
   "id": "fb8402d6",
   "metadata": {
    "scrolled": true
   },
   "outputs": [
    {
     "data": {
      "text/plain": [
       "['May', 'Jun', 'July', 'Aug', 'Sep', 'Oct']"
      ]
     },
     "execution_count": 56,
     "metadata": {},
     "output_type": "execute_result"
    }
   ],
   "source": [
    "s.investing_Months()"
   ]
  },
  {
   "cell_type": "code",
   "execution_count": 70,
   "id": "f04d0003",
   "metadata": {},
   "outputs": [
    {
     "name": "stdout",
     "output_type": "stream",
     "text": [
      "01-May2022runningBalance\n",
      "01-Jun2022runningBalance\n",
      "01-July2022runningBalance\n",
      "01-Aug2022runningBalance\n",
      "01-Sep2022runningBalance\n",
      "01-Oct2022runningBalance\n"
     ]
    }
   ],
   "source": [
    "s.firstDayInvestment()"
   ]
  },
  {
   "cell_type": "code",
   "execution_count": 1,
   "id": "735d4e68",
   "metadata": {},
   "outputs": [],
   "source": [
    "\n",
    "    "
   ]
  },
  {
   "cell_type": "code",
   "execution_count": null,
   "id": "1130f206",
   "metadata": {},
   "outputs": [],
   "source": [
    "'Example : date1_Accounting(12,100,monthlyRate) '"
   ]
  }
 ],
 "metadata": {
  "kernelspec": {
   "display_name": "Python 3 (ipykernel)",
   "language": "python",
   "name": "python3"
  },
  "language_info": {
   "codemirror_mode": {
    "name": "ipython",
    "version": 3
   },
   "file_extension": ".py",
   "mimetype": "text/x-python",
   "name": "python",
   "nbconvert_exporter": "python",
   "pygments_lexer": "ipython3",
   "version": "3.9.7"
  }
 },
 "nbformat": 4,
 "nbformat_minor": 5
}
