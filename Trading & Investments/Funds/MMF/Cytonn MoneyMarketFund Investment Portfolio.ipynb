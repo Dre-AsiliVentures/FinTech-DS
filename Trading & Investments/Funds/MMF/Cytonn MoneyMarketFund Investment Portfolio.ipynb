{
 "cells": [
  {
   "cell_type": "markdown",
   "id": "052ba232",
   "metadata": {},
   "source": [
    "# Investment Inputs\n"
   ]
  },
  {
   "cell_type": "markdown",
   "id": "a40e1062",
   "metadata": {},
   "source": [
    "global top_upAmount=int(input(\"Enter the monthly contribution: \"))\n",
    "global start_date=str(input(\"Enter the Starting date of investment period in DD/MM/YYYY format\"))\n",
    "global end_date=str(input(\"Enter the End Date of investment period in DD/MM/YYYY format\"))"
   ]
  },
  {
   "cell_type": "code",
   "execution_count": 1,
   "id": "6251c767",
   "metadata": {},
   "outputs": [],
   "source": [
    "notebook_name='Cytonn'"
   ]
  },
  {
   "cell_type": "code",
   "execution_count": 2,
   "id": "1d9f2afc",
   "metadata": {},
   "outputs": [],
   "source": [
    "# top_upAmount=500\n",
    "# startDate= \"01/08/2022\"\n",
    "# endDate= '01/11/2025'\n",
    "# witholdingTax=0.15\n",
    "# mmf_Yield=0.109\n",
    "adminCharges=75"
   ]
  },
  {
   "cell_type": "code",
   "execution_count": 3,
   "id": "e91f173d",
   "metadata": {},
   "outputs": [],
   "source": [
    "#top_upAmount=500"
   ]
  },
  {
   "cell_type": "markdown",
   "id": "63c420aa",
   "metadata": {},
   "source": [
    "### Witholding Tax, Top-Up Amount, MMF Yields"
   ]
  },
  {
   "cell_type": "markdown",
   "id": "e6be9fb3",
   "metadata": {},
   "source": [
    "global monthlyRate=mmf_Yield/12\n",
    "global top_upAmount=int(input(\"Enter the monthly contribution: \"))"
   ]
  },
  {
   "cell_type": "markdown",
   "id": "b8637bdc",
   "metadata": {},
   "source": [
    "# investmentDate_Duration---- Class Definition"
   ]
  },
  {
   "cell_type": "code",
   "execution_count": 4,
   "id": "b4932cc2",
   "metadata": {},
   "outputs": [],
   "source": [
    "class investmentDate_Duration:\n",
    "    def __init__(self,startDate,endDate):\n",
    "\n",
    "        self.investment_period=0\n",
    "        self.adminCost=0\n",
    "        \n",
    "\n",
    "        #Split the end_date to determine the Day, Months and Years\n",
    "        self.end_day=int(endDate.split('/')[0])\n",
    "        self.end_month=int(endDate.split('/')[1])\n",
    "        self.end_year=int(endDate.split('/')[2])\n",
    "        # Split the Start_date to determine the Day, Months and Years\n",
    "        self.start_day=int(startDate.split('/')[0])\n",
    "        self.start_month=int(startDate.split('/')[1])\n",
    "        self.start_year=int(startDate.split('/')[2])\n",
    "        # Months of the Year\n",
    "        self.calendar_months=['Jan','Feb','Mar','Apr','May','Jun','July','Aug','Sep','Oct','Nov','Dec']\n",
    "        # Investment parameters\n",
    "    def period(self):\n",
    "        \"\"\" Returns the number of months the Investment lasts\n",
    "        \"\"\"\n",
    "        if (self.end_month<self.start_month) and (self.end_year>self.start_year):\n",
    "            # Case example \n",
    "            #Exceptional case scenario e.g., End date= '01/01/2025' and Start date is '01/04/2022'\n",
    "            self.investment_period=(self.end_year-self.start_year)*12+(abs(self.start_month-self.end_month))\n",
    "        else:\n",
    "            #Normal case scenario\n",
    "            self.investment_period=(self.end_year-self.start_year)*12+(abs(self.end_month-self.start_month))\n",
    "            #print(\"Investment period (in months) is: {}\".format(investment_period))\n",
    "        return self.investment_period\n",
    "    \"\"\"Usage Format :investment_period(startDate,endDate)\n",
    "    #Usage example:\n",
    "                  investmentDate_Duration('01/05/2022','01/10/2023') \"\"\"\n",
    "    # Example s=investmentDate_Duration('01/05/2023','01/10/2022')'\n",
    "    #         s.period()\n",
    "    def calendar(self):\n",
    "         # Check the calendar months and return the start month from its corresponding index \n",
    "        self.investment_Start_month=self.calendar_months[self.start_month-1] # List indices start from 0 so minus 1\n",
    "        # Check the calendar months and return the end month from its corresponding index \n",
    "        self.investment_End_month=self.calendar_months[self.end_month-1] # List indices start from 0 so minus 1\n",
    "        self.investmentYears=self.end_year-self.start_year\n",
    "        #return [self.investment_Start_month,self.investment_End_month]\n",
    "        return self.investmentYears\n",
    "    def investing_Months(self):\n",
    "        self.investment_Months=[]\n",
    "        if (self.end_month<self.start_month) and (self.end_year>self.start_year):\n",
    "            # #Exceptional case scenario e.g., End date= '01/01/2025' and Start date is '01/04/2022'\n",
    "            self.investment_Months=self.calendar_months[self.start_month-1::]+self.calendar_months[:self.end_month]\n",
    "            return self.investment_Months\n",
    "        else:\n",
    "            #Normal case scenario e.g., End date= '01/04/2025' and Start date is '01/01/2022'\n",
    "            self.investment_Months=self.calendar_months[self.start_month-1:self.end_month]\n",
    "            return self.investment_Months\n",
    "    def adminCosts(self):\n",
    "        period=self.period()\n",
    "        if (self.start_year!=self.end_year) or (period>6 and period>12):\n",
    "            'Adminstration cost applies when investment is more than 6 months and its past December'\n",
    "            self.adminCost=(period//12)*adminCharges\n",
    "        else:\n",
    "            print(\"No admin charges apply\")\n",
    "            self.adminCost=0\n",
    "        return self.adminCost"
   ]
  },
  {
   "cell_type": "markdown",
   "id": "f72d827d",
   "metadata": {},
   "source": [
    "## InvestmentDuration -- Usage Example "
   ]
  },
  {
   "cell_type": "code",
   "execution_count": 5,
   "id": "47e7f447",
   "metadata": {},
   "outputs": [],
   "source": [
    "#sal=investmentDate_Duration('01/05/2022','01/10/2023')\n",
    "#sal.calendar()\n",
    "#print(s.monthly_v)"
   ]
  },
  {
   "cell_type": "code",
   "execution_count": 6,
   "id": "acf84ace",
   "metadata": {},
   "outputs": [],
   "source": [
    "#sal.period()"
   ]
  },
  {
   "cell_type": "code",
   "execution_count": 7,
   "id": "fb8402d6",
   "metadata": {
    "scrolled": true
   },
   "outputs": [],
   "source": [
    "#s.investing_Months()"
   ]
  },
  {
   "cell_type": "markdown",
   "id": "011d1d00",
   "metadata": {},
   "source": [
    "### Determining the Adminstration Charges"
   ]
  },
  {
   "cell_type": "code",
   "execution_count": 8,
   "id": "6bbf55dc",
   "metadata": {},
   "outputs": [],
   "source": [
    "#s.adminCosts()"
   ]
  },
  {
   "cell_type": "markdown",
   "id": "90f629e2",
   "metadata": {},
   "source": [
    "# investmentDataFrame"
   ]
  },
  {
   "cell_type": "code",
   "execution_count": 9,
   "id": "735d4e68",
   "metadata": {},
   "outputs": [],
   "source": [
    "class investmentDataFrame:\n",
    "    \"\"\"Investment Data Frame\n",
    "    \n",
    "    Keyword arguments:\n",
    "    top_upAmount=500\n",
    "    startDate= \"01/08/2022\"\n",
    "    endDate= '01/11/2025'\n",
    "    witholdingTax=0.15\n",
    "    mmf_Yield=0.109\n",
    "    adminCharges=75\n",
    "    argument -- description\n",
    "\n",
    "\n",
    "    Return: return_description\n",
    "    \"\"\"\n",
    "    \n",
    "    def __init__(self,top_upAmount,startDate,endDate,witholdingTax,mmf_Yield,adminCharges):\n",
    "        self.top_upAmount=top_upAmount\n",
    "        self.startDate=startDate\n",
    "        self.endDate=endDate\n",
    "        self.witholdingTax=witholdingTax\n",
    "        self.mmf_Yield=mmf_Yield\n",
    "        self.adminCharges=adminCharges\n",
    "        print(\"Investment Data Analysis commencing\")\n",
    "        self.s=investmentDate_Duration(self.startDate,self.endDate)\n",
    "        import pandas as pd\n",
    "        self.investmentDF=pd.DataFrame()\n",
    "        self.topupTotal=0\n",
    "        self.topupcharge=0\n",
    "        self.runningBal=0\n",
    "        self.paybillCost=0\n",
    "        self.net_Interest=0\n",
    "        self.witholdtax=0\n",
    "        self.witholdingTaxRate=self.witholdingTax\n",
    "        self.mmf_YieldRate=self.mmf_Yield/12\n",
    "        self.monthly_Inflow=self.top_upAmount\n",
    "        self.totalcharges=0\n",
    "        self.adminstrationCosts=0\n",
    "        #s.calendar()\n",
    "    def investmentRange(self):\n",
    "        'Updates the Dates in the Data Frame'\n",
    "        import datetime\n",
    "        import pandas as pd\n",
    "        start_date = datetime.date(self.s.start_year,self.s.start_month,self.s.start_day)\n",
    "        # e.g Executes such that; start_date = datetime.date(2010,8,1)\n",
    "        end_date = datetime.date(self.s.end_year,self.s.end_month,self.s.end_day)\n",
    "        #end_date = datetime.date(2016,2,1)\n",
    "        date_range = pd.date_range(start_date, end_date)\n",
    "        self.firstDate_range = pd.date_range(start=start_date, end=end_date,freq='MS')\n",
    "        self.fourthDate_range = pd.date_range(start=start_date, end=end_date,freq='MS').shift(3,freq='D')\n",
    "        self.investmentDates=[item for sublist in zip(self.firstDate_range,self.fourthDate_range) for item in sublist]\n",
    "        del self.investmentDates[-1]\n",
    "        self.investmentDF['Date']=self.investmentDates\n",
    "        self.investmentDFLen=len(self.investmentDF)\n",
    "        return [self.investmentDF,self.firstDate_range,self.fourthDate_range,self.investmentDates]\n",
    "    def interest(self,runningBalance):\n",
    "        #self.runningBal=runningBalance\n",
    "        'This function updates the interest and Tax Witheld in the running balance'\n",
    "        ran=self.investmentRange()\n",
    "        gross_Interest=round((self.mmf_YieldRate)*runningBalance,64)\n",
    "        tax_witheld=self.witholdingTaxRate*gross_Interest\n",
    "        self.witholdtax=tax_witheld\n",
    "        net_Interest=gross_Interest-(tax_witheld)\n",
    "        self.net_Interest=gross_Interest-(tax_witheld)\n",
    "        return [None,self.net_Interest,gross_Interest,self.witholdtax]\n",
    "        # Returns the List where Index 1 - Net Interest\n",
    "        #........................Index 2 - Gross_Interest\n",
    "        #........................Index 3 - Tax_witheld\n",
    "    def runningBalance(self):\n",
    "        'This function updates the running balance in the Data Frame'\n",
    "        dates=self.investmentRange()\n",
    "        #newBalance=self.monthly_Inflow+self.interest()[1]\n",
    "        #self.investmentDF['Running Balance']=self.runningBal\n",
    "        investmentRange=self.investmentRange()\n",
    "        for rIndex in range(0,self.investmentDFLen): # Iterate between the rows\n",
    "            if rIndex==0: # The first running balance is 0 by default\n",
    "                self.investmentDF.at[rIndex,'Running Balance']=self.runningBal\n",
    "                rIndex+=1\n",
    "            elif rIndex==1:\n",
    "                # Second Running Balance is equal to monthly top-up Amount also by Default\n",
    "                self.runningBal+=self.monthly_Inflow\n",
    "                self.investmentDF.at[rIndex,'Running Balance']=self.runningBal\n",
    "                rIndex+=1\n",
    "                #first_Date_value=investmentRange[1][0]\n",
    "            else: # This is where the Investment now grows with Interest and Taxes (:^-^:)\n",
    "                # We shal revisit\n",
    "                if (self.investmentDF.at[rIndex,'Date'] in dates[1])==True:\n",
    "                # If the date is among the 01-Mon-Year Dates\n",
    "                    'Running Balance for the First Date is Net Interest + Last month running balance'\n",
    "                    from decimal import Decimal\n",
    "                    interest=round(self.interest(self.runningBal)[1],64)\n",
    "                    self.runningBal+=interest\n",
    "\n",
    "                    'Update the Running Balance in the DataFrame'\n",
    "                    self.investmentDF.at[rIndex,'Running Balance']=self.runningBal\n",
    "                    #previousBalance=int(self.investmentDF.at[rIndex-1,'Running Balance'])\n",
    "                    rIndex+=1\n",
    "                else:\n",
    "                    'Running Balance for the 4TH Date is Net Interest + Last month running balance'\n",
    "                    self.runningBal+=self.monthly_Inflow\n",
    "                    #print(self.runningBal)\n",
    "                    self.investmentDF.at[rIndex,'Running Balance']=self.runningBal\n",
    "                    rIndex+=1\n",
    "        #return self.investmentDF\n",
    "    def paybillCharges(self):\n",
    "        'This Function only assumes that the person is  customer'\n",
    "        topup=self.monthly_Inflow\n",
    "        dates=self.investmentRange()\n",
    "        import pandas as pd\n",
    "        paybillCSV=pd.read_csv('Paybill Charges.csv')\n",
    "        # Support for Business coming soon\n",
    "        def tariff_Topup(type_Tariff):\n",
    "            for row in range(0,len(paybillCSV)):\n",
    "                min=int(paybillCSV.at[row,'MIN'])\n",
    "                max=int(paybillCSV.at[row,'MAX'])\n",
    "                #topup=int(topup)\n",
    "                if topup>=min and topup<=max:\n",
    "                    if type_Tariff=='MGAO' or type_Tariff=='mgao' or type_Tariff=='Mgao':\n",
    "                        #print(\"The row is:{}\".format(row))\n",
    "                        self.topupcharge=paybillCSV.iat[row,2]\n",
    "                        return self.topupcharge\n",
    "                    elif type_Tariff=='Business' or type_Tariff=='BUSINESS' or type_Tariff=='business':\n",
    "                        self.topupcharge=paybillCSV.iat[row,5]\n",
    "                        return self.topupcharge\n",
    "                    elif type_Tariff=='Customer' or type_Tariff=='CUSTOMER' or type_Tariff=='customer':\n",
    "                        self.topupcharge=paybillCSV.iat[row,8]\n",
    "                        return self.topupcharge\n",
    "                    else:\n",
    "                        pass\n",
    "                else:\n",
    "                    pass\n",
    "                    #print(\"Computing Paybill charges\")\n",
    "        print(\"Unless specified the Default tariff is the 'Business' one \")\n",
    "        self.tariffType='Business'\n",
    "        'Uncomment to prompt user to enter Tariff Type'\n",
    "        #self.tariffType=input(\"Enter the tariff type: MGAO / BUSINESS / CUSTOMER\")\n",
    "        topUpcharges=tariff_Topup(self.tariffType)\n",
    "        print(\"Your tariff type is.{}\".format(self.tariffType))\n",
    "        print(\"In your tarriff, a monthly Top-up of {} yields a transaction fee of: {}\".format(self.monthly_Inflow,topUpcharges))\n",
    "        dates=self.investmentRange()\n",
    "        for no_row in range(0,self.investmentDFLen): # Iterate between the rows\n",
    "            if (self.investmentDF.at[no_row,'Date'] in dates[2])==True:\n",
    "                'When the date is among the 4th day of the month'\n",
    "                self.topupTotal+=self.monthly_Inflow\n",
    "                self.investmentDF.at[no_row,'Top-up Totals']=int(self.topupTotal)\n",
    "                self.investmentDF.at[no_row,'Top-Up charges']=int(topUpcharges)\n",
    "                no_row+=1\n",
    "            else:\n",
    "                'When the date is among other dates of the month'\n",
    "                self.investmentDF.at[no_row,'Top-up Totals']=0.0\n",
    "                self.investmentDF.at[no_row,'Top-Up charges']=0.0\n",
    "                #pass\n",
    "        self.paybillCost=self.investmentDF['Top-Up charges'].sum()\n",
    "        #print(\"Total cost incurred for Paybill Transactions: {}\".format(self.paybillCost))\n",
    "        return [self.paybillCost,self.topupTotal]\n",
    "    def totalCharges(self):\n",
    "        self.paybillCharges()\n",
    "        #paybillcharge=self.paybillCost\n",
    "        self.paybillCost=self.investmentDF['Top-Up charges'].sum()\n",
    "        #self.runningBalance() # Call the running balance function to update the witheld Taxes from self.interest()\n",
    "        #taxes_amount=self.witholdtax\n",
    "        #self.runningBalance()\n",
    "        taxes_amount=self.interest(self.runningBal)[3]\n",
    "        #taxes_amount=self.witholdtax\n",
    "        investment_calendar=investmentDate_Duration(self.startDate,self.endDate)\n",
    "        investment_period=investment_calendar.period()\n",
    "        self.adminstrationCosts=investment_calendar.adminCosts()\n",
    "        print(\"Your investment period of: {} months translates to {} ksh of adminstration charges\".format(investment_period,self.adminstrationCosts))\n",
    "        self.totalcharges=taxes_amount+self.paybillCost+self.adminstrationCosts\n",
    "        print(\"The total charges are:{}\".format(self.totalcharges))\n",
    "        return [self.paybillCost,self.totalcharges,taxes_amount]\n",
    "    def run(self):\n",
    "        import pandas as pd\n",
    "        self.__init__(self.top_upAmount,self.startDate,self.endDate,self.witholdingTax,self.mmf_Yield,self.adminCharges)\n",
    "        self.totalCharges()\n",
    "        self.runningBalance()\n",
    "        #self.paybillCharges()\n",
    "        #self.inputCostDF=pd.DataFrame({'Total Top-Up':[self.topupTotal],'Running Balance':[self.runningBal],'Interest':[self.interest(self.runningBal)[2]],'Total Charges':[self.totalcharges],'Paybill Costs':self.paybillCost})\n",
    "        self.inputCostDF=pd.DataFrame({'Total Top-Up':[self.topupTotal],'Running Balance':[self.runningBal],'Interest':[self.runningBal-self.topupTotal],'Total Charges':[self.totalcharges],'Paybill Costs':self.paybillCost})\n",
    "        return [self.inputCostDF,self.investmentDF]\n",
    "\n",
    "    # The end"
   ]
  },
  {
   "cell_type": "markdown",
   "id": "4b15e519",
   "metadata": {},
   "source": [
    "## investmentDataFrame Usage"
   ]
  },
  {
   "cell_type": "code",
   "execution_count": 10,
   "id": "113067a2",
   "metadata": {},
   "outputs": [
    {
     "name": "stdout",
     "output_type": "stream",
     "text": [
      "Investment Data Analysis commencing\n"
     ]
    }
   ],
   "source": [
    "\"\"\"Syntax: (self,top_upAmount,startDate,endDate,witholdingTax,mmf_Yield,adminCharges)'\n",
    "For example with:\n",
    "    top_upAmount=500\n",
    "    startDate= \"01/08/2022\"\n",
    "    endDate= '01/11/2025'\n",
    "    witholdingTax=0.15\n",
    "    mmf_Yield=0.109\n",
    "    adminCharges=75\n",
    "\n",
    "    e.g., df=investmentDataFrame(\"01/08/2022\",'01/01/2023',0.15,0.109,75)\n",
    "\"\"\"\n",
    "df=investmentDataFrame(700,\"04/09/2022\",'01/11/2027',0.15,0.109,75)"
   ]
  },
  {
   "cell_type": "code",
   "execution_count": 11,
   "id": "643d6083",
   "metadata": {},
   "outputs": [
    {
     "data": {
      "text/plain": [
       "int"
      ]
     },
     "execution_count": 11,
     "metadata": {},
     "output_type": "execute_result"
    }
   ],
   "source": [
    "type(df.runningBal)"
   ]
  },
  {
   "cell_type": "markdown",
   "id": "99991af7",
   "metadata": {},
   "source": [
    "### DataFrame"
   ]
  },
  {
   "cell_type": "code",
   "execution_count": 12,
   "id": "24516653",
   "metadata": {},
   "outputs": [
    {
     "name": "stdout",
     "output_type": "stream",
     "text": [
      "Investment Data Analysis commencing\n",
      "Unless specified the Default tariff is the 'Business' one \n",
      "Your tariff type is.Business\n",
      "In your tarriff, a monthly Top-up of 700 yields a transaction fee of: 23\n",
      "Your investment period of: 62 months translates to 375 ksh of adminstration charges\n",
      "The total charges are:1778.0\n"
     ]
    }
   ],
   "source": [
    "investmentF=df.run()\n",
    "costTopDF=investmentF[0]"
   ]
  },
  {
   "cell_type": "code",
   "execution_count": 13,
   "id": "d2de530f",
   "metadata": {},
   "outputs": [
    {
     "data": {
      "text/html": [
       "<div>\n",
       "<style scoped>\n",
       "    .dataframe tbody tr th:only-of-type {\n",
       "        vertical-align: middle;\n",
       "    }\n",
       "\n",
       "    .dataframe tbody tr th {\n",
       "        vertical-align: top;\n",
       "    }\n",
       "\n",
       "    .dataframe thead th {\n",
       "        text-align: right;\n",
       "    }\n",
       "</style>\n",
       "<table border=\"1\" class=\"dataframe\">\n",
       "  <thead>\n",
       "    <tr style=\"text-align: right;\">\n",
       "      <th></th>\n",
       "      <th>Total Top-Up</th>\n",
       "      <th>Running Balance</th>\n",
       "      <th>Interest</th>\n",
       "      <th>Total Charges</th>\n",
       "      <th>Paybill Costs</th>\n",
       "    </tr>\n",
       "  </thead>\n",
       "  <tbody>\n",
       "    <tr>\n",
       "      <th>0</th>\n",
       "      <td>42700</td>\n",
       "      <td>54695.292886</td>\n",
       "      <td>11995.292886</td>\n",
       "      <td>1778.0</td>\n",
       "      <td>1403.0</td>\n",
       "    </tr>\n",
       "  </tbody>\n",
       "</table>\n",
       "</div>"
      ],
      "text/plain": [
       "   Total Top-Up  Running Balance      Interest  Total Charges  Paybill Costs\n",
       "0         42700     54695.292886  11995.292886         1778.0         1403.0"
      ]
     },
     "execution_count": 13,
     "metadata": {},
     "output_type": "execute_result"
    }
   ],
   "source": [
    "costTopDF"
   ]
  },
  {
   "cell_type": "code",
   "execution_count": 14,
   "id": "752b386c",
   "metadata": {},
   "outputs": [
    {
     "data": {
      "text/html": [
       "<div>\n",
       "<style scoped>\n",
       "    .dataframe tbody tr th:only-of-type {\n",
       "        vertical-align: middle;\n",
       "    }\n",
       "\n",
       "    .dataframe tbody tr th {\n",
       "        vertical-align: top;\n",
       "    }\n",
       "\n",
       "    .dataframe thead th {\n",
       "        text-align: right;\n",
       "    }\n",
       "</style>\n",
       "<table border=\"1\" class=\"dataframe\">\n",
       "  <thead>\n",
       "    <tr style=\"text-align: right;\">\n",
       "      <th></th>\n",
       "      <th>Date</th>\n",
       "      <th>Top-up Totals</th>\n",
       "      <th>Top-Up charges</th>\n",
       "      <th>Running Balance</th>\n",
       "    </tr>\n",
       "  </thead>\n",
       "  <tbody>\n",
       "    <tr>\n",
       "      <th>0</th>\n",
       "      <td>2022-10-01</td>\n",
       "      <td>0.0</td>\n",
       "      <td>0.0</td>\n",
       "      <td>0.000000</td>\n",
       "    </tr>\n",
       "    <tr>\n",
       "      <th>1</th>\n",
       "      <td>2022-10-04</td>\n",
       "      <td>700.0</td>\n",
       "      <td>23.0</td>\n",
       "      <td>700.000000</td>\n",
       "    </tr>\n",
       "    <tr>\n",
       "      <th>2</th>\n",
       "      <td>2022-11-01</td>\n",
       "      <td>0.0</td>\n",
       "      <td>0.0</td>\n",
       "      <td>705.404583</td>\n",
       "    </tr>\n",
       "    <tr>\n",
       "      <th>3</th>\n",
       "      <td>2022-11-04</td>\n",
       "      <td>1400.0</td>\n",
       "      <td>23.0</td>\n",
       "      <td>1405.404583</td>\n",
       "    </tr>\n",
       "    <tr>\n",
       "      <th>4</th>\n",
       "      <td>2022-12-01</td>\n",
       "      <td>0.0</td>\n",
       "      <td>0.0</td>\n",
       "      <td>1416.255478</td>\n",
       "    </tr>\n",
       "    <tr>\n",
       "      <th>...</th>\n",
       "      <td>...</td>\n",
       "      <td>...</td>\n",
       "      <td>...</td>\n",
       "      <td>...</td>\n",
       "    </tr>\n",
       "    <tr>\n",
       "      <th>118</th>\n",
       "      <td>2027-09-01</td>\n",
       "      <td>0.0</td>\n",
       "      <td>0.0</td>\n",
       "      <td>52465.751216</td>\n",
       "    </tr>\n",
       "    <tr>\n",
       "      <th>119</th>\n",
       "      <td>2027-09-04</td>\n",
       "      <td>42000.0</td>\n",
       "      <td>23.0</td>\n",
       "      <td>53165.751216</td>\n",
       "    </tr>\n",
       "    <tr>\n",
       "      <th>120</th>\n",
       "      <td>2027-10-01</td>\n",
       "      <td>0.0</td>\n",
       "      <td>0.0</td>\n",
       "      <td>53576.235120</td>\n",
       "    </tr>\n",
       "    <tr>\n",
       "      <th>121</th>\n",
       "      <td>2027-10-04</td>\n",
       "      <td>42700.0</td>\n",
       "      <td>23.0</td>\n",
       "      <td>54276.235120</td>\n",
       "    </tr>\n",
       "    <tr>\n",
       "      <th>122</th>\n",
       "      <td>2027-11-01</td>\n",
       "      <td>0.0</td>\n",
       "      <td>0.0</td>\n",
       "      <td>54695.292886</td>\n",
       "    </tr>\n",
       "  </tbody>\n",
       "</table>\n",
       "<p>123 rows × 4 columns</p>\n",
       "</div>"
      ],
      "text/plain": [
       "          Date  Top-up Totals  Top-Up charges  Running Balance\n",
       "0   2022-10-01            0.0             0.0         0.000000\n",
       "1   2022-10-04          700.0            23.0       700.000000\n",
       "2   2022-11-01            0.0             0.0       705.404583\n",
       "3   2022-11-04         1400.0            23.0      1405.404583\n",
       "4   2022-12-01            0.0             0.0      1416.255478\n",
       "..         ...            ...             ...              ...\n",
       "118 2027-09-01            0.0             0.0     52465.751216\n",
       "119 2027-09-04        42000.0            23.0     53165.751216\n",
       "120 2027-10-01            0.0             0.0     53576.235120\n",
       "121 2027-10-04        42700.0            23.0     54276.235120\n",
       "122 2027-11-01            0.0             0.0     54695.292886\n",
       "\n",
       "[123 rows x 4 columns]"
      ]
     },
     "execution_count": 14,
     "metadata": {},
     "output_type": "execute_result"
    }
   ],
   "source": [
    "df1=investmentF[1]\n",
    "df1"
   ]
  },
  {
   "cell_type": "code",
   "execution_count": null,
   "id": "abbf2373",
   "metadata": {},
   "outputs": [],
   "source": []
  },
  {
   "cell_type": "code",
   "execution_count": 15,
   "id": "958e2a90",
   "metadata": {},
   "outputs": [
    {
     "data": {
      "text/plain": [
       "<AxesSubplot:>"
      ]
     },
     "execution_count": 15,
     "metadata": {},
     "output_type": "execute_result"
    },
    {
     "data": {
      "image/png": "[encoded data removed]",
      "text/plain": [
       "<Figure size 432x288 with 1 Axes>"
      ]
     },
     "metadata": {
      "needs_background": "light"
     },
     "output_type": "display_data"
    }
   ],
   "source": [
    "costTopDF.plot.bar()"
   ]
  },
  {
   "cell_type": "markdown",
   "id": "3cbd1a4d",
   "metadata": {},
   "source": [
    "### DataFrame to csv "
   ]
  },
  {
   "cell_type": "code",
   "execution_count": 16,
   "id": "4cefe162",
   "metadata": {},
   "outputs": [],
   "source": [
    "import pandas as pd\n",
    "from datetime import date\n",
    "today=str(date.today())\n",
    "csv_file=df.investmentDF.to_csv('first_data_Analysis '+today+'.csv',index=False)"
   ]
  }
 ],
 "metadata": {
  "kernelspec": {
   "display_name": "Python 3 (ipykernel)",
   "language": "python",
   "name": "python3"
  },
  "language_info": {
   "codemirror_mode": {
    "name": "ipython",
    "version": 3
   },
   "file_extension": ".py",
   "mimetype": "text/x-python",
   "name": "python",
   "nbconvert_exporter": "python",
   "pygments_lexer": "ipython3",
   "version": "3.9.7"
  },
  "vscode": {
   "interpreter": {
    "hash": "b0e6aa0c7315559b465a56df7745b95956df913857210652a8e0ee148ea9e296"
   }
  }
 },
 "nbformat": 4,
 "nbformat_minor": 5
}
